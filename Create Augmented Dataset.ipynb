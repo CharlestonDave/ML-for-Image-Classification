{
 "cells": [
  {
   "cell_type": "code",
   "execution_count": null,
   "id": "3d24c881-38a5-4bb1-bb60-00e4d7d52c59",
   "metadata": {},
   "outputs": [],
   "source": [
    "Use Transforms within PyTorch to augment the images dataset."
   ]
  },
  {
   "cell_type": "code",
   "execution_count": 10,
   "id": "24b2cfca-3532-4e56-b39c-f07de9013f3f",
   "metadata": {},
   "outputs": [],
   "source": [
    "import os\n",
    "import random\n",
    "import torchvision.transforms as T\n",
    "from PIL import Image\n",
    "\n",
    "def augment_images(input_dir, output_dir, num_variations=5):\n",
    "    # Create output directory if it doesn't exist\n",
    "    if not os.path.exists(output_dir):\n",
    "        os.makedirs(output_dir)\n",
    "    \n",
    "    # Define image transformations for augmentation\n",
    "    transform = T.Compose([\n",
    "        T.RandomHorizontalFlip(p=.8),\n",
    "        T.RandomVerticalFlip(p=.05),\n",
    "        T.RandomRotation(degrees=15),\n",
    "        T.RandomRotation(30),\n",
    "        T.ColorJitter(brightness=0.2, contrast=0.2, saturation=.2, hue=.3),\n",
    "        T.RandomResizedCrop(256, scale=(0.8, 1.0), ratio=(0.9, 1.1)),\n",
    "    ])\n",
    "    \n",
    "    # Get list of image files in the input directory\n",
    "    image_files = [f for f in os.listdir(input_dir) if f.endswith(('.jpg', '.jpeg', '.png'))]\n",
    "    \n",
    "    # Augment each image and save variations to the output directory\n",
    "    for image_file in image_files:\n",
    "        image_path = os.path.join(input_dir, image_file)\n",
    "        image = Image.open(image_path)\n",
    "        for i in range(num_variations):\n",
    "            augmented_image = transform(image)\n",
    "            output_file = f\"{os.path.splitext(image_file)[0]}_{i+1}{os.path.splitext(image_file)[1]}\"\n",
    "            output_path = os.path.join(output_dir, output_file)\n",
    "            augmented_image.save(output_path)\n",
    "\n",
    "# Now do it!\n",
    "input_directory = \"data/train\"\n",
    "output_directory = \"data/train\"\n",
    "num_variations_per_image = 5\n",
    "\n",
    "augment_images(input_directory, output_directory, num_variations=num_variations_per_image)"
   ]
  },
  {
   "cell_type": "code",
   "execution_count": null,
   "id": "963ed13a-31bd-4e39-aae5-347ff3e23454",
   "metadata": {},
   "outputs": [],
   "source": []
  }
 ],
 "metadata": {
  "kernelspec": {
   "display_name": "Python 3 (ipykernel)",
   "language": "python",
   "name": "python3"
  },
  "language_info": {
   "codemirror_mode": {
    "name": "ipython",
    "version": 3
   },
   "file_extension": ".py",
   "mimetype": "text/x-python",
   "name": "python",
   "nbconvert_exporter": "python",
   "pygments_lexer": "ipython3",
   "version": "3.12.2"
  }
 },
 "nbformat": 4,
 "nbformat_minor": 5
}
